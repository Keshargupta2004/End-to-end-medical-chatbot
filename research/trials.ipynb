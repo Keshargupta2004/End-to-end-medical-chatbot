{
 "cells": [
  {
   "cell_type": "code",
   "execution_count": null,
   "id": "f1a4d224",
   "metadata": {},
   "outputs": [],
   "source": [
    "print(\"ok\")"
   ]
  }
 ],
 "metadata": {
  "language_info": {
   "name": "python"
  }
 },
 "nbformat": 4,
 "nbformat_minor": 5
}
